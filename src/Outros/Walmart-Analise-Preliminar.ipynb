{
 "cells": [
  {
   "cell_type": "code",
   "execution_count": 1,
   "id": "cd293b04",
   "metadata": {
    "vscode": {
     "languageId": "r"
    }
   },
   "outputs": [
    {
     "name": "stderr",
     "output_type": "stream",
     "text": [
      "Warning message in file(file, \"rt\"):\n",
      "\"não foi possível abrir o arquivo '../Walmart_sales.csv': No such file or directory\"\n"
     ]
    },
    {
     "ename": "ERROR",
     "evalue": "Error in file(file, \"rt\"): não é possível abrir a conexão\n",
     "output_type": "error",
     "traceback": [
      "Error in file(file, \"rt\"): não é possível abrir a conexão\nTraceback:\n",
      "1. read.table(file = file, header = header, sep = sep, quote = quote, \n .     dec = dec, fill = fill, comment.char = comment.char, ...)",
      "2. file(file, \"rt\")",
      "3. .handleSimpleError(function (cnd) \n . {\n .     watcher$capture_plot_and_output()\n .     cnd <- sanitize_call(cnd)\n .     watcher$push(cnd)\n .     switch(on_error, continue = invokeRestart(\"eval_continue\"), \n .         stop = invokeRestart(\"eval_stop\"), error = NULL)\n . }, \"não é possível abrir a conexão\", base::quote(file(file, \n .     \"rt\")))"
     ]
    }
   ],
   "source": [
    "df = read.csv(\"../Walmart_sales.csv\")"
   ]
  },
  {
   "cell_type": "code",
   "execution_count": 2,
   "id": "c210b60d",
   "metadata": {
    "vscode": {
     "languageId": "r"
    }
   },
   "outputs": [
    {
     "ename": "ERROR",
     "evalue": "Error in object[[i]]: objeto de tipo 'closure' não possível dividir em subconjuntos\n",
     "output_type": "error",
     "traceback": [
      "Error in object[[i]]: objeto de tipo 'closure' não possível dividir em subconjuntos\nTraceback:\n",
      "1. summary.default(df)"
     ]
    }
   ],
   "source": [
    "summary(df)"
   ]
  },
  {
   "cell_type": "code",
   "execution_count": 7,
   "id": "ce1e7ba0",
   "metadata": {
    "vscode": {
     "languageId": "r"
    }
   },
   "outputs": [],
   "source": [
    "#Avaliar campo de datas que não foi convertido"
   ]
  },
  {
   "cell_type": "code",
   "execution_count": 4,
   "id": "5b18e91d",
   "metadata": {
    "vscode": {
     "languageId": "r"
    }
   },
   "outputs": [
    {
     "name": "stdout",
     "output_type": "stream",
     "text": [
      "  [1] 05-02-2010 12-02-2010 19-02-2010 26-02-2010 05-03-2010 12-03-2010\n",
      "  [7] 19-03-2010 26-03-2010 02-04-2010 09-04-2010 16-04-2010 23-04-2010\n",
      " [13] 30-04-2010 07-05-2010 14-05-2010 21-05-2010 28-05-2010 04-06-2010\n",
      " [19] 11-06-2010 18-06-2010 25-06-2010 02-07-2010 09-07-2010 16-07-2010\n",
      " [25] 23-07-2010 30-07-2010 06-08-2010 13-08-2010 20-08-2010 27-08-2010\n",
      " [31] 03-09-2010 10-09-2010 17-09-2010 24-09-2010 01-10-2010 08-10-2010\n",
      " [37] 15-10-2010 22-10-2010 29-10-2010 05-11-2010 12-11-2010 19-11-2010\n",
      " [43] 26-11-2010 03-12-2010 10-12-2010 17-12-2010 24-12-2010 31-12-2010\n",
      " [49] 07-01-2011 14-01-2011 21-01-2011 28-01-2011 04-02-2011 11-02-2011\n",
      " [55] 18-02-2011 25-02-2011 04-03-2011 11-03-2011 18-03-2011 25-03-2011\n",
      " [61] 01-04-2011 08-04-2011 15-04-2011 22-04-2011 29-04-2011 06-05-2011\n",
      " [67] 13-05-2011 20-05-2011 27-05-2011 03-06-2011 10-06-2011 17-06-2011\n",
      " [73] 24-06-2011 01-07-2011 08-07-2011 15-07-2011 22-07-2011 29-07-2011\n",
      " [79] 05-08-2011 12-08-2011 19-08-2011 26-08-2011 02-09-2011 09-09-2011\n",
      " [85] 16-09-2011 23-09-2011 30-09-2011 07-10-2011 14-10-2011 21-10-2011\n",
      " [91] 28-10-2011 04-11-2011 11-11-2011 18-11-2011 25-11-2011 02-12-2011\n",
      " [97] 09-12-2011 16-12-2011 23-12-2011 30-12-2011 06-01-2012 13-01-2012\n",
      "[103] 20-01-2012 27-01-2012 03-02-2012 10-02-2012 17-02-2012 24-02-2012\n",
      "[109] 02-03-2012 09-03-2012 16-03-2012 23-03-2012 30-03-2012 06-04-2012\n",
      "[115] 13-04-2012 20-04-2012 27-04-2012 04-05-2012 11-05-2012 18-05-2012\n",
      "[121] 25-05-2012 01-06-2012 08-06-2012 15-06-2012 22-06-2012 29-06-2012\n",
      "[127] 06-07-2012 13-07-2012 20-07-2012 27-07-2012 03-08-2012 10-08-2012\n",
      "[133] 17-08-2012 24-08-2012 31-08-2012 07-09-2012 14-09-2012 21-09-2012\n",
      "[139] 28-09-2012 05-10-2012 12-10-2012 19-10-2012 26-10-2012\n",
      "143 Levels: 01-04-2011 01-06-2012 01-07-2011 01-10-2010 ... 31-12-2010\n"
     ]
    }
   ],
   "source": [
    "print(df[df$Store==1,]$Date)"
   ]
  },
  {
   "cell_type": "code",
   "execution_count": 6,
   "id": "c3cebfe6",
   "metadata": {
    "vscode": {
     "languageId": "r"
    }
   },
   "outputs": [],
   "source": [
    "#Estudar granularidade do desemprego"
   ]
  },
  {
   "cell_type": "code",
   "execution_count": 4,
   "id": "590f4565",
   "metadata": {
    "vscode": {
     "languageId": "r"
    }
   },
   "outputs": [
    {
     "name": "stdout",
     "output_type": "stream",
     "text": [
      " [1]  7.808  8.200  7.343  7.896  6.465  7.092  8.963  6.290  6.384  9.524\n",
      "[11]  7.343 14.099  8.107  8.899  8.185  6.842  6.635  9.269  8.185  7.856\n",
      "[21]  8.200  8.348  5.435  8.211  7.856  8.512  8.058 14.099 10.160  8.200\n",
      "[31]  8.200  8.963  9.849  9.593  9.051  8.464  8.464 14.099  8.464  5.435\n",
      "[41]  7.363  9.524  9.593  7.972  8.899\n"
     ]
    }
   ],
   "source": [
    "print(df[df$Date=='23-04-2010',]$Unemployment)"
   ]
  },
  {
   "cell_type": "code",
   "execution_count": 5,
   "id": "27d513e4",
   "metadata": {
    "vscode": {
     "languageId": "r"
    }
   },
   "outputs": [
    {
     "name": "stdout",
     "output_type": "stream",
     "text": [
      " [1]  6.908  6.565  6.334  4.077  5.603  5.668  7.872  5.401  5.277  7.170\n",
      "[11]  6.334 10.926  5.765  8.684  8.193  6.061  5.936  8.535  8.193  7.280\n",
      "[21]  6.565  7.753  4.156  8.953  7.280  7.405  8.239 10.926  9.419  6.565\n",
      "[31]  6.565  7.872  7.147  9.285  8.839  6.623  6.623 10.926  6.623  4.156\n",
      "[41]  6.432  7.170  9.285  5.407  8.684\n"
     ]
    }
   ],
   "source": [
    "print(df[df$Date=='17-08-2012',]$Unemployment)"
   ]
  }
 ],
 "metadata": {
  "kernelspec": {
   "display_name": "R",
   "language": "R",
   "name": "ir_backup"
  },
  "language_info": {
   "codemirror_mode": "r",
   "file_extension": ".r",
   "mimetype": "text/x-r-source",
   "name": "R",
   "pygments_lexer": "r",
   "version": "4.4.3"
  }
 },
 "nbformat": 4,
 "nbformat_minor": 5
}
