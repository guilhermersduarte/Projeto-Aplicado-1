{
 "cells": [
  {
   "cell_type": "code",
   "execution_count": 1,
   "id": "e044526a",
   "metadata": {
    "vscode": {
     "languageId": "r"
    }
   },
   "outputs": [],
   "source": [
    "df = read.csv(\"./Walmart_Sales_Updated.csv\")"
   ]
  },
  {
   "cell_type": "code",
   "execution_count": 2,
   "id": "13cbb908",
   "metadata": {
    "vscode": {
     "languageId": "r"
    }
   },
   "outputs": [],
   "source": [
    "#Conferir se já não foi alterado e converter coluna 'Date pata formato Date\n",
    "if ( class(df$Date) != \"Date\" ) {\n",
    "  df$Date = as.Date(df$Date, format = \"%Y-%m-%d\")\n",
    "}\n"
   ]
  },
  {
   "cell_type": "code",
   "execution_count": 3,
   "id": "3cdabae7",
   "metadata": {
    "vscode": {
     "languageId": "r"
    }
   },
   "outputs": [
    {
     "data": {
      "text/html": [
       "<table class=\"dataframe\">\n",
       "<caption>A data.frame: 6 × 10</caption>\n",
       "<thead>\n",
       "\t<tr><th></th><th scope=col>X</th><th scope=col>Store</th><th scope=col>Date</th><th scope=col>Weekly_Sales</th><th scope=col>Holiday_Flag</th><th scope=col>Temperature</th><th scope=col>Fuel_Price</th><th scope=col>CPI</th><th scope=col>Unemployment</th><th scope=col>Weekly_CPI</th></tr>\n",
       "\t<tr><th></th><th scope=col>&lt;int&gt;</th><th scope=col>&lt;int&gt;</th><th scope=col>&lt;date&gt;</th><th scope=col>&lt;dbl&gt;</th><th scope=col>&lt;int&gt;</th><th scope=col>&lt;dbl&gt;</th><th scope=col>&lt;dbl&gt;</th><th scope=col>&lt;dbl&gt;</th><th scope=col>&lt;dbl&gt;</th><th scope=col>&lt;dbl&gt;</th></tr>\n",
       "</thead>\n",
       "<tbody>\n",
       "\t<tr><th scope=row>1</th><td>1</td><td>1</td><td>2010-02-05</td><td>1643691</td><td>0</td><td>42.31</td><td>2.572</td><td>211.0964</td><td>8.106</td><td>        NA</td></tr>\n",
       "\t<tr><th scope=row>2</th><td>2</td><td>1</td><td>2010-02-12</td><td>1641957</td><td>1</td><td>38.51</td><td>2.548</td><td>211.2422</td><td>8.106</td><td>0.06907348</td></tr>\n",
       "\t<tr><th scope=row>3</th><td>3</td><td>1</td><td>2010-02-19</td><td>1611968</td><td>0</td><td>39.93</td><td>2.514</td><td>211.2891</td><td>8.106</td><td>0.02223661</td></tr>\n",
       "\t<tr><th scope=row>4</th><td>4</td><td>1</td><td>2010-02-26</td><td>1409728</td><td>0</td><td>46.63</td><td>2.561</td><td>211.3196</td><td>8.106</td><td>0.01443520</td></tr>\n",
       "\t<tr><th scope=row>5</th><td>5</td><td>1</td><td>2010-03-05</td><td>1554807</td><td>0</td><td>46.50</td><td>2.625</td><td>211.3501</td><td>8.106</td><td>0.01443311</td></tr>\n",
       "\t<tr><th scope=row>6</th><td>6</td><td>1</td><td>2010-03-12</td><td>1439542</td><td>0</td><td>57.79</td><td>2.667</td><td>211.3806</td><td>8.106</td><td>0.01443103</td></tr>\n",
       "</tbody>\n",
       "</table>\n"
      ],
      "text/latex": [
       "A data.frame: 6 × 10\n",
       "\\begin{tabular}{r|llllllllll}\n",
       "  & X & Store & Date & Weekly\\_Sales & Holiday\\_Flag & Temperature & Fuel\\_Price & CPI & Unemployment & Weekly\\_CPI\\\\\n",
       "  & <int> & <int> & <date> & <dbl> & <int> & <dbl> & <dbl> & <dbl> & <dbl> & <dbl>\\\\\n",
       "\\hline\n",
       "\t1 & 1 & 1 & 2010-02-05 & 1643691 & 0 & 42.31 & 2.572 & 211.0964 & 8.106 &         NA\\\\\n",
       "\t2 & 2 & 1 & 2010-02-12 & 1641957 & 1 & 38.51 & 2.548 & 211.2422 & 8.106 & 0.06907348\\\\\n",
       "\t3 & 3 & 1 & 2010-02-19 & 1611968 & 0 & 39.93 & 2.514 & 211.2891 & 8.106 & 0.02223661\\\\\n",
       "\t4 & 4 & 1 & 2010-02-26 & 1409728 & 0 & 46.63 & 2.561 & 211.3196 & 8.106 & 0.01443520\\\\\n",
       "\t5 & 5 & 1 & 2010-03-05 & 1554807 & 0 & 46.50 & 2.625 & 211.3501 & 8.106 & 0.01443311\\\\\n",
       "\t6 & 6 & 1 & 2010-03-12 & 1439542 & 0 & 57.79 & 2.667 & 211.3806 & 8.106 & 0.01443103\\\\\n",
       "\\end{tabular}\n"
      ],
      "text/markdown": [
       "\n",
       "A data.frame: 6 × 10\n",
       "\n",
       "| <!--/--> | X &lt;int&gt; | Store &lt;int&gt; | Date &lt;date&gt; | Weekly_Sales &lt;dbl&gt; | Holiday_Flag &lt;int&gt; | Temperature &lt;dbl&gt; | Fuel_Price &lt;dbl&gt; | CPI &lt;dbl&gt; | Unemployment &lt;dbl&gt; | Weekly_CPI &lt;dbl&gt; |\n",
       "|---|---|---|---|---|---|---|---|---|---|---|\n",
       "| 1 | 1 | 1 | 2010-02-05 | 1643691 | 0 | 42.31 | 2.572 | 211.0964 | 8.106 |         NA |\n",
       "| 2 | 2 | 1 | 2010-02-12 | 1641957 | 1 | 38.51 | 2.548 | 211.2422 | 8.106 | 0.06907348 |\n",
       "| 3 | 3 | 1 | 2010-02-19 | 1611968 | 0 | 39.93 | 2.514 | 211.2891 | 8.106 | 0.02223661 |\n",
       "| 4 | 4 | 1 | 2010-02-26 | 1409728 | 0 | 46.63 | 2.561 | 211.3196 | 8.106 | 0.01443520 |\n",
       "| 5 | 5 | 1 | 2010-03-05 | 1554807 | 0 | 46.50 | 2.625 | 211.3501 | 8.106 | 0.01443311 |\n",
       "| 6 | 6 | 1 | 2010-03-12 | 1439542 | 0 | 57.79 | 2.667 | 211.3806 | 8.106 | 0.01443103 |\n",
       "\n"
      ],
      "text/plain": [
       "  X Store Date       Weekly_Sales Holiday_Flag Temperature Fuel_Price CPI     \n",
       "1 1 1     2010-02-05 1643691      0            42.31       2.572      211.0964\n",
       "2 2 1     2010-02-12 1641957      1            38.51       2.548      211.2422\n",
       "3 3 1     2010-02-19 1611968      0            39.93       2.514      211.2891\n",
       "4 4 1     2010-02-26 1409728      0            46.63       2.561      211.3196\n",
       "5 5 1     2010-03-05 1554807      0            46.50       2.625      211.3501\n",
       "6 6 1     2010-03-12 1439542      0            57.79       2.667      211.3806\n",
       "  Unemployment Weekly_CPI\n",
       "1 8.106                NA\n",
       "2 8.106        0.06907348\n",
       "3 8.106        0.02223661\n",
       "4 8.106        0.01443520\n",
       "5 8.106        0.01443311\n",
       "6 8.106        0.01443103"
      ]
     },
     "metadata": {},
     "output_type": "display_data"
    }
   ],
   "source": [
    "head(df)"
   ]
  },
  {
   "cell_type": "markdown",
   "id": "1153795b",
   "metadata": {},
   "source": [
    "Estudando o efeito de feriados"
   ]
  },
  {
   "cell_type": "code",
   "execution_count": 4,
   "id": "2c78c48d",
   "metadata": {
    "vscode": {
     "languageId": "r"
    }
   },
   "outputs": [],
   "source": [
    "nstore = 0\n",
    "if (nstore > 0){\n",
    "    dfplot = df[(df$Store == nstore),]\n",
    "} else {\n",
    "    dfplot = df\n",
    "}\n",
    "weeks_pre = 3\n",
    "weeks_post = 2\n",
    "\n",
    "condition = dfplot$Holiday_Flag == 1\n",
    "holiday_dates = dfplot$Date[which(condition)]\n",
    "nholidays = length(holiday_dates)\n",
    "\n",
    "\n",
    "\n",
    "##Pre Holiday\n",
    "dfplot$Pre_Holiday = 0\n",
    "for (i in 1:nholidays){\n",
    "    \n",
    "    match_date = dfplot$Date[which(condition)[i]]\n",
    "\n",
    "    dfplot$Pre_Holiday = ifelse(dfplot$Date <= match_date & dfplot$Date >= (match_date - weeks_pre*7),1,dfplot$Pre_Holiday)\n",
    "    \n",
    "    }\n",
    "\n",
    "#Post Holiday\n",
    "dfplot$Post_Holiday = 0\n",
    "for (i in 1:nholidays){\n",
    "    \n",
    "    match_date = dfplot$Date[which(condition)[i]]\n",
    "\n",
    "    dfplot$Post_Holiday = ifelse(dfplot$Date > match_date & dfplot$Date <= (match_date + weeks_post*7),1,dfplot$Post_Holiday)\n",
    "    \n",
    "    }"
   ]
  },
  {
   "cell_type": "markdown",
   "id": "041319dc",
   "metadata": {},
   "source": [
    "Estudar semanas no entorno dos feriados. Cuidado no caso Thanks Giving / Natal, com pré e pós se sobrepondo."
   ]
  },
  {
   "cell_type": "markdown",
   "id": "b2f66c84",
   "metadata": {},
   "source": [
    "Criar boxplot com três grupos, pre (boom), pós (bust) e indiferente (neutral)."
   ]
  },
  {
   "cell_type": "code",
   "execution_count": 5,
   "id": "2c1d579c",
   "metadata": {},
   "outputs": [
    {
     "data": {
      "image/png": "[encoded data removed]",
      "text/plain": [
       "Plot with title \"Vendas e Feriados - Todas as Lojas: \""
      ]
     },
     "metadata": {
      "image/png": {
       "height": 420,
       "width": 420
      }
     },
     "output_type": "display_data"
    }
   ],
   "source": [
    "dfplot$Holiday_Effect = 'Neutral'\n",
    "\n",
    "dfplot$Holiday_Effect = ifelse(dfplot$Post_Holiday == 1,'Bust', dfplot$Holiday_Effect)\n",
    "dfplot$Holiday_Effect = ifelse(dfplot$Pre_Holiday == 1,'Boom', dfplot$Holiday_Effect)\n",
    "\n",
    "if (nstore > 0){\n",
    "    texto_main = paste( 'Vendas e Feriados - Loja: ', nstore)\n",
    "    } else {\n",
    "    texto_main = 'Vendas e Feriados - Todas as Lojas: '\n",
    "    }\n",
    "\n",
    "bp = boxplot(Weekly_Sales/1000000 ~ Holiday_Effect, \n",
    "        data = dfplot,\n",
    "        ylab = 'Weekly Sales (MM)',\n",
    "        xlab = 'Holiday Influence',\n",
    "        col = 'light blue',\n",
    "        main = texto_main\n",
    "       )\n"
   ]
  },
  {
   "cell_type": "markdown",
   "id": "889ba680",
   "metadata": {},
   "source": [
    "Fica clara a influência da aproximação do feriado no aumento de vandas e depois a ressaca de vendas depois do feriado."
   ]
  }
 ],
 "metadata": {
  "kernelspec": {
   "display_name": "R",
   "language": "R",
   "name": "ir"
  },
  "language_info": {
   "codemirror_mode": "r",
   "file_extension": ".r",
   "mimetype": "text/x-r-source",
   "name": "R",
   "pygments_lexer": "r",
   "version": "4.4.3"
  }
 },
 "nbformat": 4,
 "nbformat_minor": 5
}
